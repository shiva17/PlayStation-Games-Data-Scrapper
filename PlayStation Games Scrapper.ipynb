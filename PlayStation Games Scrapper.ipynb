{
 "cells": [
  {
   "cell_type": "markdown",
   "metadata": {},
   "source": [
    "  <tr>\n",
    "        <td width=\"60%\">\n",
    "            <img src=\"data_scraping.png\">\n",
    "        </td>\n",
    "        <td>\n",
    "            <div align=\"center\">\n",
    "                <font size=24px>\n",
    "                    <b> Project 2: PlayStation Games Scraper\n",
    "                    </b>\n",
    "                </font>\n",
    "            </div>\n",
    "        </td>\n",
    "    </tr>"
   ]
  },
  {
   "cell_type": "code",
   "execution_count": null,
   "metadata": {},
   "outputs": [],
   "source": [
    "# libraries for Web Scrapping\n",
    "import requests\n",
    "from bs4 import BeautifulSoup\n",
    "\n",
    "# library for advance string manipulation\n",
    "import string\n",
    "\n",
    "# library for data manipulation\n",
    "import pandas as pd\n",
    "\n",
    "# library for advance mathematical operations\n",
    "import numpy as np\n",
    "\n",
    "# importing os module \n",
    "import os \n",
    "\n",
    "import urllib.request\n",
    "\n",
    "# library for progress bar\n",
    "from tqdm import tqdm\n",
    "\n",
    "# libraries fro data visualization\n",
    "import matplotlib.pyplot as plt\n",
    "import seaborn as sns"
   ]
  },
  {
   "cell_type": "markdown",
   "metadata": {},
   "source": [
    "# Understanding the Code Step-By-Step"
   ]
  },
  {
   "cell_type": "code",
   "execution_count": null,
   "metadata": {},
   "outputs": [],
   "source": [
    "# extract the data fro page number 1 only\n",
    "page_number = 1\n",
    "\n",
    "# extract the page as a whole\n",
    "page = requests.get(\"https://store.playstation.com/en-in/grid/STORE-MSF75508-FULLGAMES/{}\".format(page_number))\n",
    "\n",
    "# parse the whole page using a html parser\n",
    "soup = BeautifulSoup(page.content, 'html.parser')\n",
    "# soup"
   ]
  },
  {
   "cell_type": "markdown",
   "metadata": {},
   "source": [
    "## Extract Images"
   ]
  },
  {
   "cell_type": "code",
   "execution_count": null,
   "metadata": {},
   "outputs": [],
   "source": [
    "# find_all() searches for the all the tags where the class is found and \n",
    "# returns a list of all the occurences \n",
    "all_images = soup.findAll(class_=\"product-image__img product-image__img--main\")\n",
    "\n",
    "# find the length of the elements extracted\n",
    "len(all_images)"
   ]
  },
  {
   "cell_type": "code",
   "execution_count": null,
   "metadata": {},
   "outputs": [],
   "source": [
    "# get the first html element from the list all_cases\n",
    "all_images[0].find(\"img\")"
   ]
  },
  {
   "cell_type": "code",
   "execution_count": null,
   "metadata": {},
   "outputs": [],
   "source": [
    "# get the image source link from the first html element\n",
    "all_images[1].find(\"img\").attrs.get(\"src\")"
   ]
  },
  {
   "cell_type": "code",
   "execution_count": null,
   "metadata": {},
   "outputs": [],
   "source": [
    "# write a for loop that appends the image source link from each html element from all_cases into the list 'urls'\n",
    "urls = []\n",
    "for index in range(len(all_images)):\n",
    "    urls.append(all_images[index].findAll(\"img\")[0].attrs.get(\"src\"))"
   ]
  },
  {
   "cell_type": "code",
   "execution_count": null,
   "metadata": {},
   "outputs": [],
   "source": [
    "# show the first 5 elements of the list\n",
    "urls[:5]"
   ]
  },
  {
   "cell_type": "markdown",
   "metadata": {},
   "source": [
    "## Extract The Game Title"
   ]
  },
  {
   "cell_type": "code",
   "execution_count": null,
   "metadata": {},
   "outputs": [],
   "source": [
    "# find_all() searches for the all the tags where the class is found and \n",
    "# returns a list of all the occurences \n",
    "all_titles = soup.findAll(class_=\"grid-cell__title\")\n",
    "\n",
    "# find the length of the elements extracted\n",
    "len(all_titles)"
   ]
  },
  {
   "cell_type": "code",
   "execution_count": null,
   "metadata": {},
   "outputs": [],
   "source": [
    "# an empty list to hold the titles\n",
    "titles = []"
   ]
  },
  {
   "cell_type": "code",
   "execution_count": null,
   "metadata": {},
   "outputs": [],
   "source": [
    "for names in all_titles:\n",
    "    titles.append(names.text)\n",
    "    \n",
    "titles[:5]"
   ]
  },
  {
   "cell_type": "markdown",
   "metadata": {},
   "source": [
    "## Extract the Gaming Console Type"
   ]
  },
  {
   "cell_type": "code",
   "execution_count": null,
   "metadata": {},
   "outputs": [],
   "source": [
    "# find_all() searches for the all the tags where the class is found and \n",
    "# returns a list of all the occurences \n",
    "detail1 = soup.findAll(class_=\"grid-cell__left-detail grid-cell__left-detail--detail-1\")\n",
    "detail2 = soup.findAll(class_=\"grid-cell__left-detail grid-cell__left-detail--detail-2\")\n",
    "\n",
    "# find the length of the elements extracted\n",
    "print(len(detail1))\n",
    "print(len(detail2))"
   ]
  },
  {
   "cell_type": "code",
   "execution_count": null,
   "metadata": {},
   "outputs": [],
   "source": [
    "# get the text from the first element\n",
    "detail1[0].text"
   ]
  },
  {
   "cell_type": "code",
   "execution_count": null,
   "metadata": {},
   "outputs": [],
   "source": [
    "# get the text from the first element\n",
    "detail2[0].text"
   ]
  },
  {
   "cell_type": "code",
   "execution_count": null,
   "metadata": {},
   "outputs": [],
   "source": [
    "# an empty list to hold the console names\n",
    "consoles = []"
   ]
  },
  {
   "cell_type": "code",
   "execution_count": null,
   "metadata": {},
   "outputs": [],
   "source": [
    "for index in range(len(detail1)):\n",
    "    c_name = detail2[index].text + '-' + detail1[index].text\n",
    "    consoles.append(c_name)\n",
    "    \n",
    "consoles[:5]"
   ]
  },
  {
   "cell_type": "markdown",
   "metadata": {},
   "source": [
    "## Extract the Price of the Game"
   ]
  },
  {
   "cell_type": "code",
   "execution_count": null,
   "metadata": {},
   "outputs": [],
   "source": [
    "# find_all() searches for the all the tags where the class is found and \n",
    "# returns a list of all the occurences \n",
    "all_prices = soup.findAll(class_=\"price-display__price\")\n",
    "\n",
    "# find the length of the elements extracted\n",
    "print(len(all_prices))"
   ]
  },
  {
   "cell_type": "code",
   "execution_count": null,
   "metadata": {},
   "outputs": [],
   "source": [
    "# get the text from the first element\n",
    "all_prices[0].text"
   ]
  },
  {
   "cell_type": "code",
   "execution_count": null,
   "metadata": {},
   "outputs": [],
   "source": [
    "# an empty list to hold the prices\n",
    "prices = []"
   ]
  },
  {
   "cell_type": "code",
   "execution_count": null,
   "metadata": {},
   "outputs": [],
   "source": [
    "for price in all_prices:\n",
    "    prices.append(price.text)\n",
    "    \n",
    "prices[:5]"
   ]
  },
  {
   "cell_type": "markdown",
   "metadata": {},
   "source": [
    "# Complete Code To Sail Through All The Pages"
   ]
  },
  {
   "cell_type": "markdown",
   "metadata": {},
   "source": [
    "#### Get the total pages required to parse"
   ]
  },
  {
   "cell_type": "code",
   "execution_count": null,
   "metadata": {},
   "outputs": [],
   "source": [
    "# extract the page as a whole\n",
    "get_page_numbers = requests.get(\"https://store.playstation.com/en-in/grid/STORE-MSF75508-FULLGAMES/1\")\n",
    "\n",
    "# parse the whole page using a html parser\n",
    "soup_page_numbers = BeautifulSoup(page.content, 'html.parser')\n",
    "# soup"
   ]
  },
  {
   "cell_type": "code",
   "execution_count": null,
   "metadata": {},
   "outputs": [],
   "source": [
    "# find_all() searches for the all the tags where the class \"gallery-mosaic-asset__figure\" is found and \n",
    "# returns a list of all the occurences \n",
    "all_nos = soup.findAll(class_=\"grid-header__left\")\n",
    "\n",
    "# find the length of the elements extracted\n",
    "len(all_nos)"
   ]
  },
  {
   "cell_type": "code",
   "execution_count": null,
   "metadata": {},
   "outputs": [],
   "source": [
    "cells_per_page = all_nos[0].text.replace('\\n','').split(' ')[0].split('-')[1]\n",
    "cells_per_page"
   ]
  },
  {
   "cell_type": "code",
   "execution_count": null,
   "metadata": {},
   "outputs": [],
   "source": [
    "total_cells = all_nos[0].text.replace('\\n','').split(' ')[2]\n",
    "total_cells"
   ]
  },
  {
   "cell_type": "code",
   "execution_count": null,
   "metadata": {},
   "outputs": [],
   "source": [
    "import math"
   ]
  },
  {
   "cell_type": "code",
   "execution_count": null,
   "metadata": {},
   "outputs": [],
   "source": [
    "total_pages = math.ceil(int(total_cells) / int(cells_per_page))\n",
    "total_pages"
   ]
  },
  {
   "cell_type": "markdown",
   "metadata": {},
   "source": [
    "### Let's construct a complete code"
   ]
  },
  {
   "cell_type": "code",
   "execution_count": null,
   "metadata": {},
   "outputs": [],
   "source": [
    "# an empty list to hold the urls\n",
    "urls = []\n",
    "# an empty list to hold the titles\n",
    "titles = []\n",
    "# an empty list to hold the console names\n",
    "consoles = []\n",
    "# an empty list to hold the prices\n",
    "prices = []\n",
    "\n",
    "for page_number in range(1, 15):\n",
    "    # extract the page as a whole\n",
    "    page = requests.get(\"https://store.playstation.com/en-in/grid/STORE-MSF75508-FULLGAMES/{}\".format(page_number))\n",
    "\n",
    "    # parse the whole page using a html parser\n",
    "    soup = BeautifulSoup(page.content, 'html.parser')\n",
    "    \n",
    "    ########################################################################\n",
    "    # GET THE GAME TITLES\n",
    "    ########################################################################\n",
    "    # find_all() searches for the all the tags where the class is found and \n",
    "    # returns a list of all the occurences \n",
    "    all_titles = soup.findAll(class_=\"grid-cell__title\")\n",
    "    \n",
    "    # append the data in the list\n",
    "    for names in all_titles:\n",
    "        titles.append(names.text)\n",
    "    ########################################################################\n",
    "    \n",
    "    \n",
    "    ########################################################################\n",
    "    # GET THE GAMING CONSOLE TYPE\n",
    "    ########################################################################\n",
    "    # find_all() searches for the all the tags where the class is found and \n",
    "    # returns a list of all the occurences \n",
    "    detail1 = soup.findAll(class_=\"grid-cell__left-detail grid-cell__left-detail--detail-1\")\n",
    "    detail2 = soup.findAll(class_=\"grid-cell__left-detail grid-cell__left-detail--detail-2\")\n",
    "    \n",
    "    for index in range(len(detail1)):\n",
    "        c_name = detail2[index].text + '-' + detail1[index].text\n",
    "        consoles.append(c_name)\n",
    "    ########################################################################\n",
    "    \n",
    "    \n",
    "    ########################################################################\n",
    "    # GET THE PRICES\n",
    "    ########################################################################\n",
    "    # find_all() searches for the all the tags where the class is found and \n",
    "    # returns a list of all the occurences \n",
    "    all_prices = soup.findAll(class_=\"price-display__price\")\n",
    "    \n",
    "    for price in all_prices:\n",
    "        prices.append(price.text)\n",
    "    ########################################################################\n",
    "    \n",
    "    \n",
    "    ########################################################################\n",
    "    # GET THE GAME IMAGES URL\n",
    "    ########################################################################\n",
    "    # find_all() searches for the all the tags where the class is found and \n",
    "    # returns a list of all the occurences \n",
    "    all_images = soup.findAll(class_=\"product-image__img product-image__img--main\")\n",
    "\n",
    "    # write a for loop that appends the image source link from each html element from all_cases into the list 'urls'\n",
    "    for index in range(len(all_images)):\n",
    "        urls.append(all_images[index].find(\"img\").attrs.get(\"src\"))\n",
    "    ########################################################################\n",
    "    \n",
    "    print(\"Page {} scraped\".format(page_number))"
   ]
  },
  {
   "cell_type": "code",
   "execution_count": null,
   "metadata": {},
   "outputs": [],
   "source": [
    "# create a dataframe using the above lists\n",
    "df_playstation = pd.DataFrame({'Title': titles, \n",
    "                               'Console_Type': consoles, \n",
    "                               'Price': prices, \n",
    "                               'Image_URL': urls})"
   ]
  },
  {
   "cell_type": "code",
   "execution_count": null,
   "metadata": {},
   "outputs": [],
   "source": [
    "# display the first 5 observations\n",
    "df_playstation.head()"
   ]
  },
  {
   "cell_type": "code",
   "execution_count": null,
   "metadata": {},
   "outputs": [],
   "source": [
    "# clean the column 'Title'\n",
    "df_playstation.Title = df_playstation.Title.str.replace('\\n', '')"
   ]
  },
  {
   "cell_type": "code",
   "execution_count": null,
   "metadata": {},
   "outputs": [],
   "source": [
    "# clean the column 'Price'\n",
    "df_playstation.Price = df_playstation.Price.str.replace('Rs', '').replace(',','')\n",
    "df_playstation.Price = df_playstation.Price.str.replace(',','')\n",
    "df_playstation.Price = df_playstation.Price.str.strip()"
   ]
  },
  {
   "cell_type": "markdown",
   "metadata": {},
   "source": [
    "## Quick Analysis"
   ]
  },
  {
   "cell_type": "code",
   "execution_count": null,
   "metadata": {},
   "outputs": [],
   "source": [
    "plt.rcParams[\"figure.figsize\"] = (15,8)"
   ]
  },
  {
   "cell_type": "code",
   "execution_count": null,
   "metadata": {},
   "outputs": [],
   "source": [
    "# count the number of games for each console type\n",
    "print(df_playstation.Console_Type.value_counts())\n",
    "\n",
    "# display a countplot\n",
    "sns.countplot(y='Console_Type', data = df_playstation)"
   ]
  },
  {
   "cell_type": "code",
   "execution_count": null,
   "metadata": {},
   "outputs": [],
   "source": [
    "# find the top 5 expensive games\n",
    "df_playstation = df_playstation.sort_values('Price', ascending=False).reset_index(drop=True)\n",
    "df_playstation.head()"
   ]
  },
  {
   "cell_type": "code",
   "execution_count": null,
   "metadata": {},
   "outputs": [],
   "source": [
    "sns.barplot(x = 'Title', y = 'Price', data = df_playstation.head())\n",
    "plt.xticks(rotation = 70, fontsize=15)"
   ]
  }
 ],
 "metadata": {
  "kernelspec": {
   "display_name": "Python 3",
   "language": "python",
   "name": "python3"
  },
  "language_info": {
   "codemirror_mode": {
    "name": "ipython",
    "version": 3
   },
   "file_extension": ".py",
   "mimetype": "text/x-python",
   "name": "python",
   "nbconvert_exporter": "python",
   "pygments_lexer": "ipython3",
   "version": "3.7.4"
  }
 },
 "nbformat": 4,
 "nbformat_minor": 2
}
